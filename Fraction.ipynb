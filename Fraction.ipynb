{
  "nbformat": 4,
  "nbformat_minor": 0,
  "metadata": {
    "colab": {
      "provenance": [],
      "authorship_tag": "ABX9TyNINFmlXaKfWs+gqlEFuw9I",
      "include_colab_link": true
    },
    "kernelspec": {
      "name": "python3",
      "display_name": "Python 3"
    },
    "language_info": {
      "name": "python"
    }
  },
  "cells": [
    {
      "cell_type": "markdown",
      "metadata": {
        "id": "view-in-github",
        "colab_type": "text"
      },
      "source": [
        "<a href=\"https://colab.research.google.com/github/Anchaliya75/OOPS-Projects/blob/main/Fraction.ipynb\" target=\"_parent\"><img src=\"https://colab.research.google.com/assets/colab-badge.svg\" alt=\"Open In Colab\"/></a>"
      ]
    },
    {
      "cell_type": "code",
      "source": [
        "import math"
      ],
      "metadata": {
        "id": "-8YqIhyq-7SV"
      },
      "execution_count": null,
      "outputs": []
    },
    {
      "cell_type": "code",
      "execution_count": null,
      "metadata": {
        "id": "KCotZPqT6e7Y"
      },
      "outputs": [],
      "source": [
        "class Fraction:\n",
        "  def __init__(self,x,y):\n",
        "    self.num=x\n",
        "    self.den=y\n",
        "  def __str__(self):\n",
        "    return \"{}/{}\".format(self.x,self.y)\n",
        "  def __add__(self,other):\n",
        "    new_num = self.num* other.den + self.den*other.num\n",
        "    new_den =  self.den*other.den\n",
        "    gcd_of_two_no = math.gcd(new_num,new_den)\n",
        "    new_num/=gcd_of_two_no\n",
        "    new_den/=gcd_of_two_no\n",
        "    new_num = int(new_num)\n",
        "    new_den = int(new_den)\n",
        "    return \"{}/{}\".format(new_num,new_den)\n",
        "  def __sub__(self,other):\n",
        "    new_num = self.num* other.den - self.den*other.num\n",
        "    new_den =  self.den*other.den\n",
        "    gcd_of_two_no = math.gcd(new_num,new_den)\n",
        "    new_num/=gcd_of_two_no\n",
        "    new_den/=gcd_of_two_no\n",
        "    new_num = int(new_num)\n",
        "    new_den = int(new_den)\n",
        "    return \"{}/{}\".format(new_num,new_den)\n",
        "  def __mul__(self,other):\n",
        "    new_num = self.num* other.num\n",
        "    new_den =  self.den*other.den\n",
        "    gcd_of_two_no = math.gcd(new_num,new_den)\n",
        "    new_num/=gcd_of_two_no\n",
        "    new_den/=gcd_of_two_no\n",
        "    new_num = int(new_num)\n",
        "    new_den = int(new_den)\n",
        "    return \"{}/{}\".format(new_num,new_den)\n",
        "  def __truediv__(self,other):\n",
        "        new_num = self.num* other.den\n",
        "        new_den =  self.den*other.num\n",
        "        gcd_of_two_no = math.gcd(new_num,new_den)\n",
        "        new_num/=gcd_of_two_no\n",
        "        new_den/=gcd_of_two_no\n",
        "        new_num = int(new_num)\n",
        "        new_den = int(new_den)\n",
        "        \n",
        "        return \"{}/{}\".format(new_num,new_den)\n",
        "\n",
        "\n",
        "\n"
      ]
    },
    {
      "cell_type": "code",
      "source": [
        "fr1 = Fraction(3,4)\n",
        "fr2 = Fraction(6,4)"
      ],
      "metadata": {
        "id": "ZItCu1Ya6tMK"
      },
      "execution_count": null,
      "outputs": []
    },
    {
      "cell_type": "code",
      "source": [
        "print(fr1+fr2)\n",
        "print(fr1-fr2)\n",
        "print(fr1*fr2)\n",
        "print(fr1/fr2)"
      ],
      "metadata": {
        "colab": {
          "base_uri": "https://localhost:8080/"
        },
        "id": "PJis1d3d_wr9",
        "outputId": "1d302f0b-29e9-405b-d648-a1664cb903bf"
      },
      "execution_count": null,
      "outputs": [
        {
          "output_type": "stream",
          "name": "stdout",
          "text": [
            "9/4\n",
            "-3/4\n",
            "9/8\n",
            "1/2\n"
          ]
        }
      ]
    },
    {
      "cell_type": "code",
      "source": [],
      "metadata": {
        "id": "xIm5ZNynAxox"
      },
      "execution_count": null,
      "outputs": []
    }
  ]
}